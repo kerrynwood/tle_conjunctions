{
 "cells": [
  {
   "cell_type": "markdown",
   "id": "61261cdd",
   "metadata": {},
   "source": [
    "# Optimizing SGP4\n",
    "\n",
    "Kerry N. Wood\n",
    "\n",
    "kerry.n.wood@gmail.com\n",
    "\n",
    "October 13, 2022\n"
   ]
  },
  {
   "cell_type": "code",
   "execution_count": 1,
   "id": "a5d01edf",
   "metadata": {},
   "outputs": [
    {
     "data": {
      "text/html": [
       "<style>.container { width:100% !important; }</style>"
      ],
      "text/plain": [
       "<IPython.core.display.HTML object>"
      ]
     },
     "metadata": {},
     "output_type": "display_data"
    }
   ],
   "source": [
    "import numpy as np\n",
    "from datetime import datetime, timedelta\n",
    "import multiprocessing\n",
    "import itertools\n",
    "import time\n",
    "import astropy.time\n",
    "import numpy as np\n",
    "import itertools\n",
    "import scipy.interpolate\n",
    "import pandas as pd\n",
    "\n",
    "from sgp4.io import twoline2rv\n",
    "from sgp4.earth_gravity import wgs72\n",
    "from sgp4.propagation import sgp4 as sgprop\n",
    "from sgp4.conveniences import jday_datetime\n",
    "from sgp4.ext import invjday\n",
    "\n",
    "from IPython.display import display, HTML\n",
    "display(HTML(\"<style>.container { width:100% !important; }</style>\"))"
   ]
  },
  {
   "cell_type": "code",
   "execution_count": 2,
   "id": "7186bed9",
   "metadata": {},
   "outputs": [],
   "source": [
    "def read_twoline_debug( fn ):\n",
    "    '''\n",
    "    reads in a file like:\n",
    "    1 04523U 69082 GA 93237.23759955  .06028875 +36000-5 +45037-2 0  9999\n",
    "    2 04523 070.0374 356.6819 0011002 283.3732 077.1114 16.15010855249410\n",
    "    1 04524U 70071  A 70263.60375341  .00109633 +00000-0 +00000-0 0  9999\n",
    "    2 04524 072.8586 118.4837 0110530 020.4754 340.0801 16.00284599001952\n",
    "    1 04528U 70072  B 70256.72128638  .02030310 +00000-0 +00000-0 0  9991\n",
    "    2 04528 051.5351 195.5582 0026658 320.0288 039.8725 16.26016213000198\n",
    "    ....\n",
    "    '''\n",
    "    with open(fn) as F: lines = F.readlines()\n",
    "    L1 = list( filter( lambda X: X[0] == '1', lines ) )\n",
    "    L2 = list( filter( lambda X: X[0] == '2', lines ) )\n",
    "    assert len(L1) == len(L2)\n",
    "    tles = [ twoline2rv(A,B,wgs72) for A,B in zip(L1,L2) ]\n",
    "    return zip( L1, L2, tles )\n",
    "\n",
    "tles = list(  read_twoline_debug('../catalog22.twoline') )"
   ]
  },
  {
   "cell_type": "code",
   "execution_count": 9,
   "id": "f47c30df",
   "metadata": {},
   "outputs": [
    {
     "name": "stdout",
     "output_type": "stream",
     "text": [
      " "
     ]
    }
   ],
   "source": [
    "%%prun -s tottime\n",
    "xpdotp   =  1440.0 / (2.0 * np.pi)\n",
    "\n",
    "def propagateRun( tleobj, step=1 ):\n",
    "    # find the revs per day from the TLE, so we can figure out period\n",
    "    revs_per_day = tleobj.no_kozai * xpdotp \n",
    "    # go about 2 days\n",
    "    prop_interval = 7 * (1440 / revs_per_day)\n",
    "    offsets = np.arange( -step*5, prop_interval, step+5 )\n",
    "    def propToJD( offset ): return np.hstack( sgprop( tleobj, offset ) )\n",
    "    eph = np.vstack( [propToJD(O) for O in offsets])\n",
    "    return eph\n",
    "\n",
    "data   = pd.DataFrame( tles , columns=['l1','l2','tle'])\n",
    "testset = data.sample( 1000, replace=False )\n",
    "testset['tle'].apply( propagateRun )"
   ]
  },
  {
   "cell_type": "code",
   "execution_count": null,
   "id": "7bffa5ee",
   "metadata": {},
   "outputs": [],
   "source": []
  }
 ],
 "metadata": {
  "kernelspec": {
   "display_name": "Python 3 (ipykernel)",
   "language": "python",
   "name": "python3"
  },
  "language_info": {
   "codemirror_mode": {
    "name": "ipython",
    "version": 3
   },
   "file_extension": ".py",
   "mimetype": "text/x-python",
   "name": "python",
   "nbconvert_exporter": "python",
   "pygments_lexer": "ipython3",
   "version": "3.7.13"
  }
 },
 "nbformat": 4,
 "nbformat_minor": 5
}
