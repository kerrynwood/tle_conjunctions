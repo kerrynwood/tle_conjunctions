{
 "cells": [
  {
   "cell_type": "markdown",
   "id": "61261cdd",
   "metadata": {},
   "source": [
    "# Interpolator performance vs step size\n",
    "\n",
    "Kerry N. Wood\n",
    "\n",
    "kerry.n.wood@gmail.com\n",
    "\n",
    "October 13, 2022\n",
    "\n",
    "- given a mean motion and eccentricity, can we compute a step size that reasonably reflects the orbit without losing info"
   ]
  },
  {
   "cell_type": "code",
   "execution_count": null,
   "id": "a5d01edf",
   "metadata": {},
   "outputs": [],
   "source": [
    "import numpy as np\n",
    "from datetime import datetime, timedelta\n",
    "import multiprocessing\n",
    "import itertools\n",
    "import time\n",
    "import astropy.time\n",
    "import numpy as np\n",
    "import itertools\n",
    "import scipy.interpolate\n",
    "import pandas as pd\n",
    "\n",
    "from sgp4.io import twoline2rv\n",
    "from sgp4.earth_gravity import wgs72\n",
    "from sgp4.propagation import sgp4 as sgprop\n",
    "from sgp4.conveniences import jday_datetime\n",
    "from sgp4.ext import invjday\n",
    "\n",
    "from IPython.display import display, HTML\n",
    "display(HTML(\"<style>.container { width:100% !important; }</style>\"))"
   ]
  },
  {
   "cell_type": "code",
   "execution_count": null,
   "id": "7186bed9",
   "metadata": {},
   "outputs": [],
   "source": [
    "def read_twoline_debug( fn ):\n",
    "    '''\n",
    "    reads in a file like:\n",
    "    1 04523U 69082 GA 93237.23759955  .06028875 +36000-5 +45037-2 0  9999\n",
    "    2 04523 070.0374 356.6819 0011002 283.3732 077.1114 16.15010855249410\n",
    "    1 04524U 70071  A 70263.60375341  .00109633 +00000-0 +00000-0 0  9999\n",
    "    2 04524 072.8586 118.4837 0110530 020.4754 340.0801 16.00284599001952\n",
    "    1 04528U 70072  B 70256.72128638  .02030310 +00000-0 +00000-0 0  9991\n",
    "    2 04528 051.5351 195.5582 0026658 320.0288 039.8725 16.26016213000198\n",
    "    ....\n",
    "    '''\n",
    "    with open(fn) as F: lines = F.readlines()\n",
    "    L1 = list( filter( lambda X: X[0] == '1', lines ) )\n",
    "    L2 = list( filter( lambda X: X[0] == '2', lines ) )\n",
    "    assert len(L1) == len(L2)\n",
    "    tles = [ twoline2rv(A,B,wgs72) for A,B in zip(L1,L2) ]\n",
    "    return zip( L1, L2, tles )\n",
    "\n",
    "tles = list(  read_twoline_debug('../catalog22.twoline') )"
   ]
  },
  {
   "cell_type": "code",
   "execution_count": null,
   "id": "32a3a63f",
   "metadata": {},
   "outputs": [],
   "source": [
    "xpdotp   =  1440.0 / (2.0 * np.pi)\n",
    "\n",
    "def propgateAndCheckError( tleobj, step=1 ):\n",
    "    '''\n",
    "    propagate over roughly 1.5 revs, and check error in the main interval\n",
    "    '''\n",
    "    # find the revs per day from the TLE, so we can figure out period\n",
    "    revs_per_day = tleobj.no_kozai * xpdotp \n",
    "    \n",
    "    # go about 2 days\n",
    "    prop_interval = 2 * (1440 / revs_per_day)\n",
    "    offsets = np.arange( -step*5, prop_interval, step+5 )\n",
    "    \n",
    "    def propToJD( offset ): return np.hstack( sgprop( tleobj, offset ) )\n",
    "    eph = np.vstack( [propToJD(O) for O in offsets])\n",
    "\n",
    "    # half step to check\n",
    "    intp = scipy.interpolate.interp1d( offsets, eph.T, kind='cubic' )\n",
    "#     intp = scipy.interpolate.BarycentricInterpolator( offsets, eph )\n",
    "\n",
    "    \n",
    "    # now propagate to the test interval (truth'ish)\n",
    "    testoffsets = offsets[:-1] + np.diff(offsets) / 2\n",
    "    testoffsets = testoffsets[5:-5]\n",
    "\n",
    "    testeph = np.vstack( [propToJD(O) for O in testoffsets])\n",
    "    # check the error (interp output)\n",
    "    interpeph = np.vstack( [intp(O) for O in testoffsets])\n",
    "    \n",
    "    err = interpeph - testeph\n",
    "    errmag = np.linalg.norm(err,axis=1)\n",
    "    \n",
    "    return np.max(errmag)\n",
    "\n",
    "propgateAndCheckError( tles[11][2], step=5 )"
   ]
  },
  {
   "cell_type": "code",
   "execution_count": null,
   "id": "5141bfa0",
   "metadata": {},
   "outputs": [],
   "source": [
    "data   = pd.DataFrame( tles , columns=['l1','l2','tle'])\n",
    "data['satnum' ] = data['tle'].apply( lambda T: T.satnum )\n",
    "data['ecc'] = data['tle'].apply( lambda T: T.ecco )\n",
    "data['revspday'] = data['tle'].apply( lambda T: T.no_kozai * xpdotp )\n",
    "\n",
    "sample = data.sample( 8000, replace=False )\n",
    "sample.sort_values( by='satnum', inplace=True )\n",
    "\n",
    "def prop1( tle ): return propgateAndCheckError(tle,1)\n",
    "def prop5( tle ): return propgateAndCheckError(tle,5)\n",
    "def prop10( tle ): return propgateAndCheckError(tle,10)\n",
    "\n",
    "sample['1min'] = sample['tle'].apply( prop1 )\n",
    "print('Working 5')\n",
    "sample['5min'] = sample['tle'].apply( prop5 )\n",
    "print('Working 10')\n",
    "sample['10min'] = sample['tle'].apply( prop10 )"
   ]
  },
  {
   "cell_type": "code",
   "execution_count": null,
   "id": "e448b53f",
   "metadata": {},
   "outputs": [],
   "source": [
    "sample['5min'].plot.hist(bins=50)"
   ]
  },
  {
   "cell_type": "code",
   "execution_count": null,
   "id": "ae6556f7",
   "metadata": {},
   "outputs": [],
   "source": [
    "# for l1, l2, tle in tles:\n",
    "#     if tle.ecco > 0.65: \n",
    "#         print(l1.strip())\n",
    "#         print(l2.strip())\n",
    "#     print(tle.satnum,tle.ecco,tle.no_kozai * xpdotp)"
   ]
  },
  {
   "cell_type": "code",
   "execution_count": null,
   "id": "a869e657",
   "metadata": {},
   "outputs": [],
   "source": []
  }
 ],
 "metadata": {
  "kernelspec": {
   "display_name": "Python 3 (ipykernel)",
   "language": "python",
   "name": "python3"
  },
  "language_info": {
   "codemirror_mode": {
    "name": "ipython",
    "version": 3
   },
   "file_extension": ".py",
   "mimetype": "text/x-python",
   "name": "python",
   "nbconvert_exporter": "python",
   "pygments_lexer": "ipython3",
   "version": "3.7.13"
  }
 },
 "nbformat": 4,
 "nbformat_minor": 5
}
